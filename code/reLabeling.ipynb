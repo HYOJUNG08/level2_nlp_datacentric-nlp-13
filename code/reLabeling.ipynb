{
 "cells": [
  {
   "cell_type": "code",
   "execution_count": 1,
   "id": "469f809d-2b7e-40f6-b8e8-3d3245a35d91",
   "metadata": {
    "tags": []
   },
   "outputs": [],
   "source": [
    "import torch\n",
    "from transformers import AutoTokenizer, AutoModelForSequenceClassification"
   ]
  },
  {
   "cell_type": "code",
   "execution_count": 2,
   "id": "48246740-126c-40b0-9b65-341be9b4a5c6",
   "metadata": {
    "tags": []
   },
   "outputs": [],
   "source": [
    "import pandas as pd\n",
    "import numpy as np\n",
    "import matplotlib.pyplot as plt\n",
    "import re\n",
    "from tqdm import tqdm"
   ]
  },
  {
   "cell_type": "markdown",
   "id": "d51fe565-1844-4a4a-a138-5208da534773",
   "metadata": {},
   "source": [
    "#### re-labeling"
   ]
  },
  {
   "cell_type": "code",
   "execution_count": 19,
   "id": "13a552aa-efe3-41a4-99c5-e8053cd51750",
   "metadata": {
    "tags": []
   },
   "outputs": [
    {
     "data": {
      "text/plain": [
       "device(type='cuda')"
      ]
     },
     "execution_count": 19,
     "metadata": {},
     "output_type": "execute_result"
    }
   ],
   "source": [
    "DEVICE = torch.device('cuda') if torch.cuda.is_available() else torch.device('cpu')\n",
    "DEVICE"
   ]
  },
  {
   "cell_type": "code",
   "execution_count": 45,
   "id": "5bee0bc0-2984-4fcc-84a2-e5058a7910e1",
   "metadata": {
    "tags": []
   },
   "outputs": [],
   "source": [
    "modelname='bash1130/bert-base-finetuned-ynat' #klue/bert-base \n",
    "tokenizer = AutoTokenizer.from_pretrained(modelname)\n",
    "model = AutoModelForSequenceClassification.from_pretrained(modelname,num_labels=7).to(DEVICE)"
   ]
  },
  {
   "cell_type": "code",
   "execution_count": 46,
   "id": "1d259708-dd12-453a-8ffb-89b95e80a039",
   "metadata": {
    "tags": []
   },
   "outputs": [],
   "source": [
    "df=pd.read_csv('./Relabel_data_naver_crawler.csv')\n",
    "#df=df.drop(columns=['url','date','ID','Unnamed: 0'])"
   ]
  },
  {
   "cell_type": "code",
   "execution_count": 48,
   "id": "84f0a27d-c965-4528-b88c-0130d429e9d5",
   "metadata": {
    "tags": []
   },
   "outputs": [
    {
     "name": "stderr",
     "output_type": "stream",
     "text": [
      "100%|██████████| 1300/1300 [00:31<00:00, 41.65it/s]\n"
     ]
    }
   ],
   "source": [
    "preds=[]\n",
    "for i in tqdm(range(len(df))):\n",
    "    text = df.loc[i,'text']\n",
    "    tokens = tokenizer(text,return_tensors='pt').to(DEVICE)\n",
    "    with torch.no_grad():\n",
    "        logits = model(**tokens).logits\n",
    "        pred = torch.argmax(torch.nn.Softmax(dim=1)(logits), dim=1).cpu().numpy()\n",
    "        preds.extend(pred)"
   ]
  },
  {
   "cell_type": "code",
   "execution_count": 49,
   "id": "7b351b01-3252-432c-b660-2ec5bdf1c1f9",
   "metadata": {
    "tags": []
   },
   "outputs": [],
   "source": [
    "df['target'] = preds"
   ]
  },
  {
   "cell_type": "code",
   "execution_count": 50,
   "id": "bc3d2cda-1a1f-461e-8929-dc91eae6cf40",
   "metadata": {
    "tags": []
   },
   "outputs": [],
   "source": [
    "df.to_csv('naver.csv', index=False)"
   ]
  }
 ],
 "metadata": {
  "kernelspec": {
   "display_name": "Python 3 (ipykernel)",
   "language": "python",
   "name": "python3"
  },
  "language_info": {
   "codemirror_mode": {
    "name": "ipython",
    "version": 3
   },
   "file_extension": ".py",
   "mimetype": "text/x-python",
   "name": "python",
   "nbconvert_exporter": "python",
   "pygments_lexer": "ipython3",
   "version": "3.8.5"
  }
 },
 "nbformat": 4,
 "nbformat_minor": 5
}
