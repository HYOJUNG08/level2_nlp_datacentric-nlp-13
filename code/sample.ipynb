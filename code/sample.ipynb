{
 "cells": [
  {
   "cell_type": "code",
   "execution_count": 8,
   "metadata": {
    "tags": []
   },
   "outputs": [],
   "source": [
    "import pandas as pd\n",
    "import matplotlib.pyplot as plt"
   ]
  },
  {
   "cell_type": "markdown",
   "metadata": {
    "tags": []
   },
   "source": [
    "#### 기존 데이터에서 few shot learning에 사용할 데이터 10개 랜덤 선택하는 파일"
   ]
  },
  {
   "cell_type": "markdown",
   "metadata": {},
   "source": [
    "it=0\n",
    "경제=1\n",
    "사회=2\n",
    "생활문화=3\n",
    "세계=4\n",
    "스포츠=5\n",
    "정치=6"
   ]
  },
  {
   "cell_type": "code",
   "execution_count": 11,
   "metadata": {
    "tags": []
   },
   "outputs": [
    {
     "data": {
      "text/plain": [
       "<Axes: xlabel='target'>"
      ]
     },
     "execution_count": 11,
     "metadata": {},
     "output_type": "execute_result"
    },
    {
     "data": {
      "image/png": "[encoded data removed]",
      "text/plain": [
       "<Figure size 640x480 with 1 Axes>"
      ]
     },
     "metadata": {},
     "output_type": "display_data"
    }
   ],
   "source": [
    "train=pd.read_csv('../data/train.csv')\n",
    "#train=train.drop_duplicates()\n",
    "#train.to_csv('./new_train.csv',index=False)\n",
    "#train=pd.read_csv('./new_train.csv')\n",
    "train.target.value_counts().plot(kind='bar')"
   ]
  },
  {
   "cell_type": "code",
   "execution_count": 12,
   "metadata": {
    "tags": []
   },
   "outputs": [
    {
     "data": {
      "text/plain": [
       "target\n",
       "4    8250\n",
       "5    7688\n",
       "6    7372\n",
       "1    6119\n",
       "3    5760\n",
       "0    5309\n",
       "2    5180\n",
       "Name: count, dtype: int64"
      ]
     },
     "execution_count": 12,
     "metadata": {},
     "output_type": "execute_result"
    }
   ],
   "source": [
    "train.target.value_counts()"
   ]
  },
  {
   "cell_type": "code",
   "execution_count": 13,
   "metadata": {
    "tags": []
   },
   "outputs": [
    {
     "data": {
      "text/plain": [
       "target\n",
       "4       0\n",
       "5     562\n",
       "6     878\n",
       "1    2131\n",
       "3    2490\n",
       "0    2941\n",
       "2    3070\n",
       "Name: count, dtype: int64"
      ]
     },
     "execution_count": 13,
     "metadata": {},
     "output_type": "execute_result"
    }
   ],
   "source": [
    "8250-train.target.value_counts()"
   ]
  },
  {
   "cell_type": "code",
   "execution_count": 14,
   "metadata": {
    "tags": []
   },
   "outputs": [],
   "source": [
    "sort_train=train.sort_values(by=['target'])"
   ]
  },
  {
   "cell_type": "code",
   "execution_count": 15,
   "metadata": {
    "tags": []
   },
   "outputs": [],
   "source": [
    "sort_train.to_csv(\"sort_data.csv\",index=False)"
   ]
  },
  {
   "cell_type": "markdown",
   "metadata": {},
   "source": [
    "#### IT, ECON, Society, Culture, World, Sports, Politics data sampling"
   ]
  },
  {
   "cell_type": "code",
   "execution_count": 16,
   "metadata": {
    "tags": []
   },
   "outputs": [],
   "source": [
    "it_train=sort_train[sort_train['target']==0]\n",
    "it_new=it_train.sample(10,random_state=42)\n",
    "#it_new.head(10)"
   ]
  },
  {
   "cell_type": "code",
   "execution_count": 17,
   "metadata": {
    "tags": []
   },
   "outputs": [],
   "source": [
    "econ_train=sort_train[sort_train['target']==1]\n",
    "econ_new=econ_train.sample(10,random_state=42)"
   ]
  },
  {
   "cell_type": "code",
   "execution_count": 18,
   "metadata": {
    "tags": []
   },
   "outputs": [],
   "source": [
    "so_train=sort_train[sort_train['target']==2]\n",
    "so_new=so_train.sample(10,random_state=42)"
   ]
  },
  {
   "cell_type": "code",
   "execution_count": 19,
   "metadata": {
    "tags": []
   },
   "outputs": [],
   "source": [
    "cul_train=sort_train[sort_train['target']==3]\n",
    "cul_new=cul_train.sample(10,random_state=42)"
   ]
  },
  {
   "cell_type": "code",
   "execution_count": 20,
   "metadata": {
    "tags": []
   },
   "outputs": [],
   "source": [
    "wor_train=sort_train[sort_train['target']==4]\n",
    "wor_new=wor_train.sample(10,random_state=42)\n",
    "#wor_new.head(10)"
   ]
  },
  {
   "cell_type": "code",
   "execution_count": 21,
   "metadata": {
    "tags": []
   },
   "outputs": [],
   "source": [
    "spo_train=sort_train[sort_train['target']==5]\n",
    "spo_new=spo_train.sample(10,random_state=42)"
   ]
  },
  {
   "cell_type": "code",
   "execution_count": 22,
   "metadata": {
    "tags": []
   },
   "outputs": [],
   "source": [
    "pol_train=sort_train[sort_train['target']==6]\n",
    "pol_new=pol_train.sample(10,random_state=42)"
   ]
  },
  {
   "cell_type": "code",
   "execution_count": 25,
   "metadata": {},
   "outputs": [],
   "source": [
    "it_new.to_csv(\"0it.csv\",index=False)\n",
    "econ_new.to_csv(\"1econ.csv\",index=False)\n",
    "so_new.to_csv(\"2so.csv\",index=False)\n",
    "cul_new.to_csv(\"3culture.csv\",index=False)\n",
    "wor_new.to_csv(\"4world.csv\",index=False)\n",
    "spo_new.to_csv(\"5sports.csv\",index=False)\n",
    "pol_new.to_csv(\"6politics.csv\",index=False)"
   ]
  }
 ],
 "metadata": {
  "kernelspec": {
   "display_name": "Python 3 (ipykernel)",
   "language": "python",
   "name": "python3"
  },
  "language_info": {
   "codemirror_mode": {
    "name": "ipython",
    "version": 3
   },
   "file_extension": ".py",
   "mimetype": "text/x-python",
   "name": "python",
   "nbconvert_exporter": "python",
   "pygments_lexer": "ipython3",
   "version": "3.8.5"
  }
 },
 "nbformat": 4,
 "nbformat_minor": 4
}
