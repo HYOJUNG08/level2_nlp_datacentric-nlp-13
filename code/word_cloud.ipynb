{
 "cells": [
  {
   "cell_type": "code",
   "execution_count": null,
   "metadata": {},
   "outputs": [],
   "source": [
    "from wordcloud import WordCloud\n",
    "import matplotlib.pyplot as plt\n",
    "from collections import Counter\n",
    "from konlpy.tag import Okt\n",
    "from PIL import Image\n",
    "import numpy as np\n",
    "import pandas as pd\n",
    "import itertools"
   ]
  },
  {
   "attachments": {},
   "cell_type": "markdown",
   "metadata": {},
   "source": [
    "### no_noise_data"
   ]
  },
  {
   "cell_type": "code",
   "execution_count": null,
   "metadata": {},
   "outputs": [],
   "source": [
    "df=pd.read_csv('./no_noise_data.csv',encoding='utf-8')\n",
    "df.head()"
   ]
  },
  {
   "attachments": {},
   "cell_type": "markdown",
   "metadata": {},
   "source": [
    "#### 두글자 이상인 명사부터 추가하기"
   ]
  },
  {
   "cell_type": "code",
   "execution_count": null,
   "metadata": {},
   "outputs": [],
   "source": [
    "okt=Okt()\n",
    "nouns=[]\n",
    "for i in range(len(df)):\n",
    "    new=okt.nouns(df.loc[i,'text'])\n",
    "    tmp=[]\n",
    "    for j in new:\n",
    "        if len(j)!=1:\n",
    "            tmp.append(j)\n",
    "    nouns.append(tmp)\n",
    "nouns=list(itertools.chain(*nouns))"
   ]
  },
  {
   "cell_type": "code",
   "execution_count": null,
   "metadata": {},
   "outputs": [],
   "source": [
    "c=Counter(nouns)\n",
    "print(c)"
   ]
  },
  {
   "cell_type": "code",
   "execution_count": null,
   "metadata": {},
   "outputs": [],
   "source": [
    "wc = WordCloud(font_path='malgun', width=900, height=900, scale=2.0, max_font_size=250)\n",
    "gen = wc.generate_from_frequencies(c)\n",
    "plt.figure(figsize=(10,10))\n",
    "plt.imshow(gen)"
   ]
  },
  {
   "attachments": {},
   "cell_type": "markdown",
   "metadata": {},
   "source": [
    "#### 한 글자인 명사만 추가하기 "
   ]
  },
  {
   "cell_type": "code",
   "execution_count": null,
   "metadata": {},
   "outputs": [],
   "source": [
    "nouns3=[]\n",
    "for i in range(len(df)):\n",
    "    if i==3:\n",
    "        break\n",
    "    new=okt.nouns(df.loc[i,'text'])\n",
    "    tmp=[]\n",
    "    for j in new:\n",
    "        if len(j)==1:\n",
    "            tmp.append(j)\n",
    "    nouns3.append(tmp)\n",
    "nouns3=list(itertools.chain(*nouns3))"
   ]
  },
  {
   "cell_type": "code",
   "execution_count": null,
   "metadata": {},
   "outputs": [],
   "source": [
    "c3=Counter(nouns3)\n",
    "print(c3)"
   ]
  },
  {
   "cell_type": "code",
   "execution_count": null,
   "metadata": {},
   "outputs": [],
   "source": [
    "wc = WordCloud(font_path='malgun', width=900, height=900, scale=2.0, max_font_size=250)\n",
    "gen = wc.generate_from_frequencies(c3)\n",
    "plt.figure(figsize=(10,10))\n",
    "plt.imshow(gen)"
   ]
  },
  {
   "cell_type": "code",
   "execution_count": null,
   "metadata": {},
   "outputs": [],
   "source": [
    "df_counter = pd.DataFrame.from_dict(c, orient='index').reset_index()\n",
    "df_counter"
   ]
  },
  {
   "attachments": {},
   "cell_type": "markdown",
   "metadata": {},
   "source": [
    "### 증강 데이터"
   ]
  },
  {
   "cell_type": "code",
   "execution_count": null,
   "metadata": {},
   "outputs": [],
   "source": [
    "df2=pd.read_csv('./aug_data.csv',encoding='utf-8')\n",
    "df2.head()"
   ]
  },
  {
   "cell_type": "code",
   "execution_count": null,
   "metadata": {},
   "outputs": [],
   "source": [
    "nouns2=[]\n",
    "for i in range(len(df2)):\n",
    "    nouns2.append(okt.nouns(df2.loc[i,'text']))\n",
    "nouns2=list(itertools.chain(*nouns2))"
   ]
  },
  {
   "cell_type": "code",
   "execution_count": null,
   "metadata": {},
   "outputs": [],
   "source": [
    "c2=Counter(nouns2)\n",
    "print(c2)"
   ]
  },
  {
   "cell_type": "code",
   "execution_count": null,
   "metadata": {},
   "outputs": [],
   "source": [
    "gen = wc.generate_from_frequencies(c2)\n",
    "plt.figure(figsize=(10,10))\n",
    "plt.imshow(gen)"
   ]
  }
 ],
 "metadata": {
  "kernelspec": {
   "display_name": "Python 3",
   "language": "python",
   "name": "python3"
  },
  "language_info": {
   "codemirror_mode": {
    "name": "ipython",
    "version": 3
   },
   "file_extension": ".py",
   "mimetype": "text/x-python",
   "name": "python",
   "nbconvert_exporter": "python",
   "pygments_lexer": "ipython3",
   "version": "3.9.6"
  },
  "orig_nbformat": 4
 },
 "nbformat": 4,
 "nbformat_minor": 2
}
