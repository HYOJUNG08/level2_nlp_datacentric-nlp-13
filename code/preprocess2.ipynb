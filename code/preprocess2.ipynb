{
 "cells": [
  {
   "cell_type": "code",
   "execution_count": 90,
   "id": "25aa1474-e26d-413e-afac-c8761ab44c72",
   "metadata": {
    "tags": []
   },
   "outputs": [],
   "source": [
    "import pandas as pd\n",
    "import numpy as np\n",
    "import matplotlib.pyplot as plt\n",
    "import re"
   ]
  },
  {
   "cell_type": "markdown",
   "id": "9362569b-3e97-4c30-908a-e5ca8ea60f50",
   "metadata": {},
   "source": [
    "#### 새로 생성된 데이터의 불용어 및 특수문자 제거 + 한자로 적힌 나라 이름 한글로 변환"
   ]
  },
  {
   "cell_type": "code",
   "execution_count": 105,
   "id": "421625b7-9950-4232-914c-d2c6b45daa5c",
   "metadata": {
    "tags": []
   },
   "outputs": [
    {
     "data": {
      "text/html": [
       "<div>\n",
       "<style scoped>\n",
       "    .dataframe tbody tr th:only-of-type {\n",
       "        vertical-align: middle;\n",
       "    }\n",
       "\n",
       "    .dataframe tbody tr th {\n",
       "        vertical-align: top;\n",
       "    }\n",
       "\n",
       "    .dataframe thead th {\n",
       "        text-align: right;\n",
       "    }\n",
       "</style>\n",
       "<table border=\"1\" class=\"dataframe\">\n",
       "  <thead>\n",
       "    <tr style=\"text-align: right;\">\n",
       "      <th></th>\n",
       "      <th>text</th>\n",
       "      <th>target</th>\n",
       "    </tr>\n",
       "  </thead>\n",
       "  <tbody>\n",
       "    <tr>\n",
       "      <th>658</th>\n",
       "      <td>국회 토론회 개최,정책 입법 효율성 강화 방안 논의</td>\n",
       "      <td>6</td>\n",
       "    </tr>\n",
       "    <tr>\n",
       "      <th>659</th>\n",
       "      <td>정치인들의 정책 소통 강화를 위한 SNS 플랫폼 구축</td>\n",
       "      <td>6</td>\n",
       "    </tr>\n",
       "    <tr>\n",
       "      <th>660</th>\n",
       "      <td>정부, 디지털 정부 건설을 위한 첨단 기술 도입 계획 발표</td>\n",
       "      <td>6</td>\n",
       "    </tr>\n",
       "    <tr>\n",
       "      <th>661</th>\n",
       "      <td>정치 개혁을 위한 정책 실험 지역 설정</td>\n",
       "      <td>6</td>\n",
       "    </tr>\n",
       "    <tr>\n",
       "      <th>662</th>\n",
       "      <td>정치 윤리위원회 신설,정치인 윤리 감독 강</td>\n",
       "      <td>6</td>\n",
       "    </tr>\n",
       "  </tbody>\n",
       "</table>\n",
       "</div>"
      ],
      "text/plain": [
       "                                 text  target\n",
       "658      국회 토론회 개최,정책 입법 효율성 강화 방안 논의       6\n",
       "659     정치인들의 정책 소통 강화를 위한 SNS 플랫폼 구축       6\n",
       "660  정부, 디지털 정부 건설을 위한 첨단 기술 도입 계획 발표       6\n",
       "661             정치 개혁을 위한 정책 실험 지역 설정       6\n",
       "662           정치 윤리위원회 신설,정치인 윤리 감독 강       6"
      ]
     },
     "execution_count": 105,
     "metadata": {},
     "output_type": "execute_result"
    }
   ],
   "source": [
    "#augData=pd.read_csv('./aug_data.csv')\n",
    "augData=pd.read_csv('./aug_news.csv')\n",
    "for i in range(len(augData)):\n",
    "    line=augData.loc[i,'text'].replace('\"','')\n",
    "    line=line.replace('...',',')\n",
    "    line=line.replace('..',',')\n",
    "    line=line.replace('·',',')\n",
    "    line=re.sub(\"(ㆍ|…)\",',',line)\n",
    "    line=re.sub(\"(‘|’|')\",\"\",line)\n",
    "    line=re.sub(\" 등 \",\" \",line)\n",
    "    #line=re.sub(\"↑\",\" 증가\",line)\n",
    "    #line=re.sub(\"( 첫 |국내 )\",\"\",line)\n",
    "    #line=line.replace('中','중국 ')\n",
    "    #line=line.replace('美','미국 ')\n",
    "    #line=line.replace('韓','한국 ')\n",
    "    #line=line.replace('北','북한 ')\n",
    "    #line=line.replace('日','일본 ')\n",
    "    #line=line.replace('英','영국 ')\n",
    "    augData.loc[i,'text']=line\n",
    "    \n",
    "augData.tail()"
   ]
  },
  {
   "cell_type": "code",
   "execution_count": 106,
   "id": "58fec52b-c128-4305-a0bb-a5886db30d5c",
   "metadata": {
    "tags": []
   },
   "outputs": [],
   "source": [
    "augData.to_csv(\"augData_news.csv\",index=False)"
   ]
  },
  {
   "cell_type": "markdown",
   "id": "ec2c4cef-8120-4944-8a14-77f9dacd01aa",
   "metadata": {},
   "source": [
    "#### 기존 데이터의 불용어 및 특수문자 제거 + 한자로 적힌 나라 이름 한글로 변환"
   ]
  },
  {
   "cell_type": "code",
   "execution_count": 108,
   "id": "973eff6e-8677-4a94-88c6-ba45a48eeee5",
   "metadata": {
    "tags": []
   },
   "outputs": [
    {
     "data": {
      "text/html": [
       "<div>\n",
       "<style scoped>\n",
       "    .dataframe tbody tr th:only-of-type {\n",
       "        vertical-align: middle;\n",
       "    }\n",
       "\n",
       "    .dataframe tbody tr th {\n",
       "        vertical-align: top;\n",
       "    }\n",
       "\n",
       "    .dataframe thead th {\n",
       "        text-align: right;\n",
       "    }\n",
       "</style>\n",
       "<table border=\"1\" class=\"dataframe\">\n",
       "  <thead>\n",
       "    <tr style=\"text-align: right;\">\n",
       "      <th></th>\n",
       "      <th>text</th>\n",
       "      <th>target</th>\n",
       "    </tr>\n",
       "  </thead>\n",
       "  <tbody>\n",
       "    <tr>\n",
       "      <th>45673</th>\n",
       "      <td>사우디 아람코 주요 석유시설,유전 드론 공격에 화재</td>\n",
       "      <td>4</td>\n",
       "    </tr>\n",
       "    <tr>\n",
       "      <th>45674</th>\n",
       "      <td>박기원 감독 눈치 보지 말고 비예나 눈치 본 건 아닌데</td>\n",
       "      <td>5</td>\n",
       "    </tr>\n",
       "    <tr>\n",
       "      <th>45675</th>\n",
       "      <td>아시안게임 첫 경기 앞둔 라건아 인도네시아 팬이라도</td>\n",
       "      <td>5</td>\n",
       "    </tr>\n",
       "    <tr>\n",
       "      <th>45676</th>\n",
       "      <td>트럼프 미중 무역협상 1단계 합의 서명식 가질 것</td>\n",
       "      <td>4</td>\n",
       "    </tr>\n",
       "    <tr>\n",
       "      <th>45677</th>\n",
       "      <td>극적 역전승 도로공사 GS칼텍스 꺾고 2년 연속 챔프</td>\n",
       "      <td>5</td>\n",
       "    </tr>\n",
       "  </tbody>\n",
       "</table>\n",
       "</div>"
      ],
      "text/plain": [
       "                                 text  target\n",
       "45673    사우디 아람코 주요 석유시설,유전 드론 공격에 화재       4\n",
       "45674  박기원 감독 눈치 보지 말고 비예나 눈치 본 건 아닌데       5\n",
       "45675   아시안게임 첫 경기 앞둔 라건아 인도네시아 팬이라도        5\n",
       "45676    트럼프 미중 무역협상 1단계 합의 서명식 가질 것        4\n",
       "45677   극적 역전승 도로공사 GS칼텍스 꺾고 2년 연속 챔프       5"
      ]
     },
     "execution_count": 108,
     "metadata": {},
     "output_type": "execute_result"
    }
   ],
   "source": [
    "noNoise=pd.read_csv('./no_noise_data.csv')\n",
    "#noNoise=noNoise.drop(columns=['url','date','ID','Unnamed: 0'])\n",
    "for i in range(len(noNoise)):\n",
    "    #line=line.replace('..',',')\n",
    "    #line=re.sub(\"(ㆍ|…)\",',',line)\n",
    "    #line=re.sub(\"(‘|’|')\",\"\",line)\n",
    "    #line=line.replace('中','중국 ')\n",
    "    #line=line.replace('美','미국 ')\n",
    "    #line=line.replace('韓','한국 ')\n",
    "    #line=line.replace('北','북한 ')\n",
    "    #line=line.replace('日','일본 ')\n",
    "    #line=line.replace('英','영국 ')\n",
    "    #line=re.sub(\"(종합| 등 |게시판 |종합|종합2보|…| 첫 |역대 | 새 | 연속 |작년 |올해 |최대 )\",\" \",line)\n",
    "    noNoise.loc[i,'text']=line\n",
    "    line=noNoise.loc[i,'text'].replace('...','')\n",
    "    line=line.replace('·',',')\n",
    "    line=re.sub(\"(종합| 등 |게시판 |종합2보|…)\",\" \",line)\n",
    "    \n",
    "noNoise.tail()"
   ]
  },
  {
   "cell_type": "code",
   "execution_count": 109,
   "id": "251d5031-0a06-4aa1-aebf-0735e9390d05",
   "metadata": {
    "tags": []
   },
   "outputs": [],
   "source": [
    "noNoise.to_csv(\"news_pre.csv\",index=False)"
   ]
  }
 ],
 "metadata": {
  "kernelspec": {
   "display_name": "Python 3 (ipykernel)",
   "language": "python",
   "name": "python3"
  },
  "language_info": {
   "codemirror_mode": {
    "name": "ipython",
    "version": 3
   },
   "file_extension": ".py",
   "mimetype": "text/x-python",
   "name": "python",
   "nbconvert_exporter": "python",
   "pygments_lexer": "ipython3",
   "version": "3.8.5"
  }
 },
 "nbformat": 4,
 "nbformat_minor": 5
}
