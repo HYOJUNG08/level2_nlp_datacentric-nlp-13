{
 "cells": [
  {
   "cell_type": "code",
   "execution_count": 59,
   "id": "ad38104b-eee0-4fc0-a625-325ad012ce7c",
   "metadata": {
    "tags": []
   },
   "outputs": [],
   "source": [
    "import pandas as pd\n",
    "import matplotlib.pyplot as plt"
   ]
  },
  {
   "attachments": {},
   "cell_type": "markdown",
   "id": "b6ca73d1-ef6a-434c-b4e0-a57065612818",
   "metadata": {},
   "source": [
    "#### Concatenating augmented data and other data"
   ]
  },
  {
   "attachments": {},
   "cell_type": "markdown",
   "id": "bbeffa55-32e1-4a24-9362-ab041a4d59e3",
   "metadata": {},
   "source": [
    "### Load Data"
   ]
  },
  {
   "cell_type": "code",
   "execution_count": 60,
   "id": "3c9ed9a2-c479-4dfd-8c09-4fdc0584c614",
   "metadata": {
    "tags": []
   },
   "outputs": [],
   "source": [
    "train=pd.read_csv('./noNoise.csv')\n",
    "new=pd.read_csv('./augData.csv')"
   ]
  },
  {
   "cell_type": "code",
   "execution_count": 74,
   "id": "4cbb25da-a4fe-4532-9d3c-47d3263e8385",
   "metadata": {
    "tags": []
   },
   "outputs": [],
   "source": [
    "train=train.drop(columns=['Unnamed: 0','target_한글'])"
   ]
  },
  {
   "attachments": {},
   "cell_type": "markdown",
   "id": "8a42e6e5-a98d-4863-9670-0beb8be4a16f",
   "metadata": {},
   "source": [
    "### Sampling AugData"
   ]
  },
  {
   "cell_type": "code",
   "execution_count": 61,
   "id": "c1e19db4-5b31-4382-9938-1137c045349e",
   "metadata": {
    "tags": []
   },
   "outputs": [],
   "source": [
    "new=new.sample(frac=1).reset_index(drop=True)"
   ]
  },
  {
   "cell_type": "code",
   "execution_count": 62,
   "id": "212d7800-0e7b-4235-a764-64209c14a368",
   "metadata": {
    "tags": []
   },
   "outputs": [
    {
     "data": {
      "text/html": [
       "<div>\n",
       "<style scoped>\n",
       "    .dataframe tbody tr th:only-of-type {\n",
       "        vertical-align: middle;\n",
       "    }\n",
       "\n",
       "    .dataframe tbody tr th {\n",
       "        vertical-align: top;\n",
       "    }\n",
       "\n",
       "    .dataframe thead th {\n",
       "        text-align: right;\n",
       "    }\n",
       "</style>\n",
       "<table border=\"1\" class=\"dataframe\">\n",
       "  <thead>\n",
       "    <tr style=\"text-align: right;\">\n",
       "      <th></th>\n",
       "      <th>text</th>\n",
       "      <th>target</th>\n",
       "    </tr>\n",
       "  </thead>\n",
       "  <tbody>\n",
       "    <tr>\n",
       "      <th>0</th>\n",
       "      <td>유튜브 내달 2일까지 크리에이터 지원 공간 운영</td>\n",
       "      <td>3</td>\n",
       "    </tr>\n",
       "    <tr>\n",
       "      <th>1</th>\n",
       "      <td>어버이날 맑다가 흐려져 남부 지방 옅은 황사</td>\n",
       "      <td>3</td>\n",
       "    </tr>\n",
       "    <tr>\n",
       "      <th>2</th>\n",
       "      <td>내년부터 국가RD 평가 때 논문건수는 반영 않는다</td>\n",
       "      <td>2</td>\n",
       "    </tr>\n",
       "    <tr>\n",
       "      <th>3</th>\n",
       "      <td>김명자 신임 과총 회장 원로와 젊은 과학자 지혜 모을 것</td>\n",
       "      <td>2</td>\n",
       "    </tr>\n",
       "    <tr>\n",
       "      <th>4</th>\n",
       "      <td>회색 인간 작가 김동식 양심고백 새 소설집 2권 출간</td>\n",
       "      <td>3</td>\n",
       "    </tr>\n",
       "  </tbody>\n",
       "</table>\n",
       "</div>"
      ],
      "text/plain": [
       "                              text  target\n",
       "0       유튜브 내달 2일까지 크리에이터 지원 공간 운영       3\n",
       "1         어버이날 맑다가 흐려져 남부 지방 옅은 황사       3\n",
       "2      내년부터 국가RD 평가 때 논문건수는 반영 않는다       2\n",
       "3  김명자 신임 과총 회장 원로와 젊은 과학자 지혜 모을 것       2\n",
       "4    회색 인간 작가 김동식 양심고백 새 소설집 2권 출간       3"
      ]
     },
     "execution_count": 62,
     "metadata": {},
     "output_type": "execute_result"
    }
   ],
   "source": [
    "train.head()"
   ]
  },
  {
   "cell_type": "code",
   "execution_count": 63,
   "id": "87f68d86-a7a7-49e9-a90a-fd199a7ef18e",
   "metadata": {
    "tags": []
   },
   "outputs": [],
   "source": [
    "#train=train.drop(columns=['ID','url','date','Unnamed: 0'])"
   ]
  },
  {
   "cell_type": "code",
   "execution_count": 75,
   "id": "ae6be7dc-2ef0-4ba4-85f6-4735f9de103e",
   "metadata": {},
   "outputs": [],
   "source": [
    "url_aug=pd.concat([new,train])"
   ]
  },
  {
   "cell_type": "code",
   "execution_count": 65,
   "id": "674f18fe-1ddc-42c9-be75-1332e6b52dcd",
   "metadata": {
    "tags": []
   },
   "outputs": [
    {
     "data": {
      "text/html": [
       "<div>\n",
       "<style scoped>\n",
       "    .dataframe tbody tr th:only-of-type {\n",
       "        vertical-align: middle;\n",
       "    }\n",
       "\n",
       "    .dataframe tbody tr th {\n",
       "        vertical-align: top;\n",
       "    }\n",
       "\n",
       "    .dataframe thead th {\n",
       "        text-align: right;\n",
       "    }\n",
       "</style>\n",
       "<table border=\"1\" class=\"dataframe\">\n",
       "  <thead>\n",
       "    <tr style=\"text-align: right;\">\n",
       "      <th></th>\n",
       "      <th>text</th>\n",
       "      <th>target</th>\n",
       "    </tr>\n",
       "  </thead>\n",
       "  <tbody>\n",
       "    <tr>\n",
       "      <th>0</th>\n",
       "      <td>유튜브 내달 2일까지 크리에이터 지원 공간 운영</td>\n",
       "      <td>3</td>\n",
       "    </tr>\n",
       "    <tr>\n",
       "      <th>1</th>\n",
       "      <td>어버이날 맑다가 흐려져 남부 지방 옅은 황사</td>\n",
       "      <td>3</td>\n",
       "    </tr>\n",
       "    <tr>\n",
       "      <th>2</th>\n",
       "      <td>내년부터 국가RD 평가 때 논문건수는 반영 않는다</td>\n",
       "      <td>2</td>\n",
       "    </tr>\n",
       "    <tr>\n",
       "      <th>3</th>\n",
       "      <td>김명자 신임 과총 회장 원로와 젊은 과학자 지혜 모을 것</td>\n",
       "      <td>2</td>\n",
       "    </tr>\n",
       "    <tr>\n",
       "      <th>4</th>\n",
       "      <td>회색 인간 작가 김동식 양심고백 새 소설집 2권 출간</td>\n",
       "      <td>3</td>\n",
       "    </tr>\n",
       "  </tbody>\n",
       "</table>\n",
       "</div>"
      ],
      "text/plain": [
       "                              text  target\n",
       "0       유튜브 내달 2일까지 크리에이터 지원 공간 운영       3\n",
       "1         어버이날 맑다가 흐려져 남부 지방 옅은 황사       3\n",
       "2      내년부터 국가RD 평가 때 논문건수는 반영 않는다       2\n",
       "3  김명자 신임 과총 회장 원로와 젊은 과학자 지혜 모을 것       2\n",
       "4    회색 인간 작가 김동식 양심고백 새 소설집 2권 출간       3"
      ]
     },
     "execution_count": 65,
     "metadata": {},
     "output_type": "execute_result"
    }
   ],
   "source": [
    "train.head()"
   ]
  },
  {
   "cell_type": "code",
   "execution_count": 66,
   "id": "d98a12fb-3e93-41de-ab93-b7daa9ee852f",
   "metadata": {
    "tags": []
   },
   "outputs": [
    {
     "data": {
      "text/html": [
       "<div>\n",
       "<style scoped>\n",
       "    .dataframe tbody tr th:only-of-type {\n",
       "        vertical-align: middle;\n",
       "    }\n",
       "\n",
       "    .dataframe tbody tr th {\n",
       "        vertical-align: top;\n",
       "    }\n",
       "\n",
       "    .dataframe thead th {\n",
       "        text-align: right;\n",
       "    }\n",
       "</style>\n",
       "<table border=\"1\" class=\"dataframe\">\n",
       "  <thead>\n",
       "    <tr style=\"text-align: right;\">\n",
       "      <th></th>\n",
       "      <th>text</th>\n",
       "      <th>target</th>\n",
       "    </tr>\n",
       "  </thead>\n",
       "  <tbody>\n",
       "    <tr>\n",
       "      <th>0</th>\n",
       "      <td>K-POP 스타를 만나기 위해 몰린 외국인 팬들, 그 분노 속에서 드러난 한류 산업...</td>\n",
       "      <td>2</td>\n",
       "    </tr>\n",
       "    <tr>\n",
       "      <th>1</th>\n",
       "      <td>여름밤의 짜릿한 순간, 해외 여행 대신 국내에서 만날 수 있는 야외 영화 상영회 T...</td>\n",
       "      <td>3</td>\n",
       "    </tr>\n",
       "    <tr>\n",
       "      <th>2</th>\n",
       "      <td>배구 V리그, 여자부 최종전에서 현대건설 vs. GS 칼텍스 대결 예상</td>\n",
       "      <td>5</td>\n",
       "    </tr>\n",
       "    <tr>\n",
       "      <th>3</th>\n",
       "      <td>경찰청장 후보자 조명래, 여성 관련 범죄 수사 강화 방안 발표</td>\n",
       "      <td>2</td>\n",
       "    </tr>\n",
       "    <tr>\n",
       "      <th>4</th>\n",
       "      <td>온라인 강력범죄 증가 추세, 개인정보 유출 및 금융사기 등에 주의하세요</td>\n",
       "      <td>2</td>\n",
       "    </tr>\n",
       "  </tbody>\n",
       "</table>\n",
       "</div>"
      ],
      "text/plain": [
       "                                                text  target\n",
       "0  K-POP 스타를 만나기 위해 몰린 외국인 팬들, 그 분노 속에서 드러난 한류 산업...       2\n",
       "1  여름밤의 짜릿한 순간, 해외 여행 대신 국내에서 만날 수 있는 야외 영화 상영회 T...       3\n",
       "2            배구 V리그, 여자부 최종전에서 현대건설 vs. GS 칼텍스 대결 예상       5\n",
       "3                 경찰청장 후보자 조명래, 여성 관련 범죄 수사 강화 방안 발표       2\n",
       "4            온라인 강력범죄 증가 추세, 개인정보 유출 및 금융사기 등에 주의하세요       2"
      ]
     },
     "execution_count": 66,
     "metadata": {},
     "output_type": "execute_result"
    }
   ],
   "source": [
    "url_aug.head()"
   ]
  },
  {
   "cell_type": "code",
   "execution_count": 68,
   "id": "d17c7744-7d27-4135-9aa1-03b59f5e562a",
   "metadata": {
    "tags": []
   },
   "outputs": [],
   "source": [
    "url_aug.to_csv(\"pre_noNoise_Aug.csv\",index=False)"
   ]
  },
  {
   "cell_type": "code",
   "execution_count": null,
   "id": "743473bb-d9ec-4d6a-9b3d-bc243788bce9",
   "metadata": {},
   "outputs": [],
   "source": []
  }
 ],
 "metadata": {
  "kernelspec": {
   "display_name": "Python 3 (ipykernel)",
   "language": "python",
   "name": "python3"
  },
  "language_info": {
   "codemirror_mode": {
    "name": "ipython",
    "version": 3
   },
   "file_extension": ".py",
   "mimetype": "text/x-python",
   "name": "python",
   "nbconvert_exporter": "python",
   "pygments_lexer": "ipython3",
   "version": "3.8.5"
  }
 },
 "nbformat": 4,
 "nbformat_minor": 5
}
