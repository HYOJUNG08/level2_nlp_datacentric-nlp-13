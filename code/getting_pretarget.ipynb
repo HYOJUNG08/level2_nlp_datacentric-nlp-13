{
 "cells": [
  {
   "cell_type": "code",
   "execution_count": 5,
   "metadata": {},
   "outputs": [],
   "source": [
    "import pandas as pd\n",
    "import numpy as np\n",
    "import re"
   ]
  },
  {
   "cell_type": "code",
   "execution_count": 2,
   "metadata": {},
   "outputs": [],
   "source": [
    "LABELS = {'IT과학': 0,\n",
    "         '경제': 1,\n",
    "         '사회': 2,\n",
    "         '생활문화': 3,\n",
    "         '세계': 4,\n",
    "         '스포츠': 5,\n",
    "         '정치': 6}"
   ]
  },
  {
   "cell_type": "code",
   "execution_count": 31,
   "metadata": {},
   "outputs": [],
   "source": [
    "naver = {'105' : 'IT과학',\n",
    "         '104' : '세계',\n",
    "         '103' : '생활문화',\n",
    "         '102' : '사회',\n",
    "         '101' : '경제',\n",
    "         '100' : '정치'\n",
    "         }"
   ]
  },
  {
   "cell_type": "code",
   "execution_count": 3,
   "metadata": {},
   "outputs": [],
   "source": [
    "train = pd.read_csv(\"../data/train.csv\")"
   ]
  },
  {
   "cell_type": "code",
   "execution_count": null,
   "metadata": {},
   "outputs": [],
   "source": [
    "train['url']"
   ]
  },
  {
   "cell_type": "code",
   "execution_count": 32,
   "metadata": {},
   "outputs": [],
   "source": [
    "pre_target = []\n",
    "for url in train['url']:\n",
    "    if 'sports' in url:\n",
    "        pre_target.append(LABELS['스포츠'])\n",
    "    else:\n",
    "        p = re.compile(r'sid1=10[0-5]')\n",
    "        num = p.findall(url)[0][5:8]\n",
    "        pre_target.append(LABELS[naver[num]])"
   ]
  },
  {
   "cell_type": "code",
   "execution_count": 35,
   "metadata": {},
   "outputs": [
    {
     "data": {
      "text/html": [
       "<div>\n",
       "<style scoped>\n",
       "    .dataframe tbody tr th:only-of-type {\n",
       "        vertical-align: middle;\n",
       "    }\n",
       "\n",
       "    .dataframe tbody tr th {\n",
       "        vertical-align: top;\n",
       "    }\n",
       "\n",
       "    .dataframe thead th {\n",
       "        text-align: right;\n",
       "    }\n",
       "</style>\n",
       "<table border=\"1\" class=\"dataframe\">\n",
       "  <thead>\n",
       "    <tr style=\"text-align: right;\">\n",
       "      <th></th>\n",
       "      <th>ID</th>\n",
       "      <th>text</th>\n",
       "      <th>target</th>\n",
       "      <th>url</th>\n",
       "      <th>date</th>\n",
       "      <th>predefined</th>\n",
       "    </tr>\n",
       "  </thead>\n",
       "  <tbody>\n",
       "    <tr>\n",
       "      <th>0</th>\n",
       "      <td>ynat-v1_train_00000</td>\n",
       "      <td>유튜브 내달 2일까지 크리에이터 지원 공간 운영</td>\n",
       "      <td>3</td>\n",
       "      <td>https://news.naver.com/main/read.nhn?mode=LS2D...</td>\n",
       "      <td>2016.06.30. 오전 10:36</td>\n",
       "      <td>0</td>\n",
       "    </tr>\n",
       "    <tr>\n",
       "      <th>1</th>\n",
       "      <td>ynat-v1_train_00001</td>\n",
       "      <td>어버이날 막따가 흐려저…남부지방 여튼 황사</td>\n",
       "      <td>3</td>\n",
       "      <td>https://news.naver.com/main/read.nhn?mode=LS2D...</td>\n",
       "      <td>2016.05.08. 오전 5:25</td>\n",
       "      <td>3</td>\n",
       "    </tr>\n",
       "    <tr>\n",
       "      <th>2</th>\n",
       "      <td>ynat-v1_train_00002</td>\n",
       "      <td>내년부터 국가RD 평가 때 논문건수는 반영 않는다</td>\n",
       "      <td>2</td>\n",
       "      <td>https://news.naver.com/main/read.nhn?mode=LS2D...</td>\n",
       "      <td>2016.03.15. 오후 12:00</td>\n",
       "      <td>0</td>\n",
       "    </tr>\n",
       "    <tr>\n",
       "      <th>3</th>\n",
       "      <td>ynat-v1_train_00003</td>\n",
       "      <td>김명자 신임 과총 회장 원로와 젊은 과학자 지혜 모을 것</td>\n",
       "      <td>2</td>\n",
       "      <td>https://news.naver.com/main/read.nhn?mode=LS2D...</td>\n",
       "      <td>2017.02.28. 오전 9:54</td>\n",
       "      <td>0</td>\n",
       "    </tr>\n",
       "    <tr>\n",
       "      <th>4</th>\n",
       "      <td>ynat-v1_train_00004</td>\n",
       "      <td>회새긴간 작까 김동시 걍심꼬백 뜽 새 소설집 뚜권 출간</td>\n",
       "      <td>3</td>\n",
       "      <td>https://news.naver.com/main/read.nhn?mode=LS2D...</td>\n",
       "      <td>2018.04.03. 오전 7:05</td>\n",
       "      <td>3</td>\n",
       "    </tr>\n",
       "    <tr>\n",
       "      <th>5</th>\n",
       "      <td>ynat-v1_train_00005</td>\n",
       "      <td>야외서 생방송 하세요…액션캠 전용 요금제 잇따라</td>\n",
       "      <td>0</td>\n",
       "      <td>https://news.naver.com/main/read.nhn?mode=LS2D...</td>\n",
       "      <td>2016.07.18. 오전 9:46</td>\n",
       "      <td>0</td>\n",
       "    </tr>\n",
       "    <tr>\n",
       "      <th>6</th>\n",
       "      <td>ynat-v1_train_00006</td>\n",
       "      <td>월드컵 태극전사 16강 전초기지 레오강 입성종합</td>\n",
       "      <td>5</td>\n",
       "      <td>https://sports.news.naver.com/news.nhn?oid=001...</td>\n",
       "      <td>2018.06.04 08:15</td>\n",
       "      <td>5</td>\n",
       "    </tr>\n",
       "    <tr>\n",
       "      <th>7</th>\n",
       "      <td>ynat-v1_train_00007</td>\n",
       "      <td>미세먼지 속 출근길</td>\n",
       "      <td>3</td>\n",
       "      <td>https://news.naver.com/main/read.nhn?mode=LS2D...</td>\n",
       "      <td>2018.01.17. 오전 10:14</td>\n",
       "      <td>3</td>\n",
       "    </tr>\n",
       "    <tr>\n",
       "      <th>8</th>\n",
       "      <td>ynat-v1_train_00008</td>\n",
       "      <td>왓츠앱稅 230원에 성난 레바논 민심…총리사퇴로 이어져종합2보</td>\n",
       "      <td>4</td>\n",
       "      <td>https://news.naver.com/main/read.nhn?mode=LS2D...</td>\n",
       "      <td>2019.10.30. 오전 4:17</td>\n",
       "      <td>4</td>\n",
       "    </tr>\n",
       "    <tr>\n",
       "      <th>9</th>\n",
       "      <td>ynat-v1_train_00009</td>\n",
       "      <td>베트남 경제 고성장 지속…2분기 GDP 6.71% 성장</td>\n",
       "      <td>4</td>\n",
       "      <td>https://news.naver.com/main/read.nhn?mode=LS2D...</td>\n",
       "      <td>2019.06.28. 오후 5:42</td>\n",
       "      <td>4</td>\n",
       "    </tr>\n",
       "  </tbody>\n",
       "</table>\n",
       "</div>"
      ],
      "text/plain": [
       "                    ID                                text  target   \n",
       "0  ynat-v1_train_00000          유튜브 내달 2일까지 크리에이터 지원 공간 운영       3  \\\n",
       "1  ynat-v1_train_00001             어버이날 막따가 흐려저…남부지방 여튼 황사       3   \n",
       "2  ynat-v1_train_00002         내년부터 국가RD 평가 때 논문건수는 반영 않는다       2   \n",
       "3  ynat-v1_train_00003     김명자 신임 과총 회장 원로와 젊은 과학자 지혜 모을 것       2   \n",
       "4  ynat-v1_train_00004      회새긴간 작까 김동시 걍심꼬백 뜽 새 소설집 뚜권 출간       3   \n",
       "5  ynat-v1_train_00005          야외서 생방송 하세요…액션캠 전용 요금제 잇따라       0   \n",
       "6  ynat-v1_train_00006          월드컵 태극전사 16강 전초기지 레오강 입성종합       5   \n",
       "7  ynat-v1_train_00007                          미세먼지 속 출근길       3   \n",
       "8  ynat-v1_train_00008  왓츠앱稅 230원에 성난 레바논 민심…총리사퇴로 이어져종합2보       4   \n",
       "9  ynat-v1_train_00009      베트남 경제 고성장 지속…2분기 GDP 6.71% 성장       4   \n",
       "\n",
       "                                                 url                  date   \n",
       "0  https://news.naver.com/main/read.nhn?mode=LS2D...  2016.06.30. 오전 10:36  \\\n",
       "1  https://news.naver.com/main/read.nhn?mode=LS2D...   2016.05.08. 오전 5:25   \n",
       "2  https://news.naver.com/main/read.nhn?mode=LS2D...  2016.03.15. 오후 12:00   \n",
       "3  https://news.naver.com/main/read.nhn?mode=LS2D...   2017.02.28. 오전 9:54   \n",
       "4  https://news.naver.com/main/read.nhn?mode=LS2D...   2018.04.03. 오전 7:05   \n",
       "5  https://news.naver.com/main/read.nhn?mode=LS2D...   2016.07.18. 오전 9:46   \n",
       "6  https://sports.news.naver.com/news.nhn?oid=001...      2018.06.04 08:15   \n",
       "7  https://news.naver.com/main/read.nhn?mode=LS2D...  2018.01.17. 오전 10:14   \n",
       "8  https://news.naver.com/main/read.nhn?mode=LS2D...   2019.10.30. 오전 4:17   \n",
       "9  https://news.naver.com/main/read.nhn?mode=LS2D...   2019.06.28. 오후 5:42   \n",
       "\n",
       "   predefined  \n",
       "0           0  \n",
       "1           3  \n",
       "2           0  \n",
       "3           0  \n",
       "4           3  \n",
       "5           0  \n",
       "6           5  \n",
       "7           3  \n",
       "8           4  \n",
       "9           4  "
      ]
     },
     "execution_count": 35,
     "metadata": {},
     "output_type": "execute_result"
    }
   ],
   "source": [
    "train['predefined'] = pre_target\n",
    "train.head(10)"
   ]
  },
  {
   "cell_type": "code",
   "execution_count": 37,
   "metadata": {},
   "outputs": [
    {
     "data": {
      "text/plain": [
       "Index([    0,     2,     3,    15,    16,    17,    22,    26,    27,    29,\n",
       "       ...\n",
       "       45553, 45560, 45569, 45572, 45582, 45588, 45596, 45602, 45655, 45657],\n",
       "      dtype='int64', length=8961)"
      ]
     },
     "execution_count": 37,
     "metadata": {},
     "output_type": "execute_result"
    }
   ],
   "source": [
    "train[train['target'] != train['predefined']].index"
   ]
  },
  {
   "cell_type": "code",
   "execution_count": 40,
   "metadata": {},
   "outputs": [],
   "source": [
    "train['target'] = pre_target"
   ]
  },
  {
   "cell_type": "code",
   "execution_count": 41,
   "metadata": {},
   "outputs": [],
   "source": [
    "train.to_csv('../data/train_pretolab.csv')"
   ]
  },
  {
   "cell_type": "code",
   "execution_count": null,
   "metadata": {},
   "outputs": [],
   "source": []
  }
 ],
 "metadata": {
  "kernelspec": {
   "display_name": "base",
   "language": "python",
   "name": "python3"
  },
  "language_info": {
   "codemirror_mode": {
    "name": "ipython",
    "version": 3
   },
   "file_extension": ".py",
   "mimetype": "text/x-python",
   "name": "python",
   "nbconvert_exporter": "python",
   "pygments_lexer": "ipython3",
   "version": "3.8.5"
  },
  "orig_nbformat": 4
 },
 "nbformat": 4,
 "nbformat_minor": 2
}
